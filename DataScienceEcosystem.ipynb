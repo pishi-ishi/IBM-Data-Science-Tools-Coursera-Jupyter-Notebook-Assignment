{
 "cells": [
  {
   "cell_type": "markdown",
   "id": "7930cbf9-aac2-4df5-ad01-70e4a2d2de26",
   "metadata": {},
   "source": [
    "# Data Science Tools and Ecosystem"
   ]
  },
  {
   "cell_type": "markdown",
   "id": "20f93897-711c-4ab6-a1a2-05f34cf49efd",
   "metadata": {},
   "source": [
    "### In this notebook, Data Science Tools and Ecosystem are summarized."
   ]
  },
  {
   "cell_type": "markdown",
   "id": "ee17f048-ca8c-42c7-9c7f-6f27c64a6e19",
   "metadata": {},
   "source": [
    "## Objectives:\n",
    "\n",
    "+ Familiarity with Data science tools\n",
    " \n",
    "+ Identify the criteria and roles for determining the language to learn.\n",
    "\n",
    "+ Benefits of Python.\n",
    "\n",
    "+ Uses of the R language.\n",
    "\n",
    "+ Define SQL elements and list their benefits.\n",
    "\n",
    "+ Review languages such as Java, Scala, C++, JavaScript, and Julia.\n",
    "\n",
    "+ List the global communities for connecting with other users."
   ]
  },
  {
   "cell_type": "markdown",
   "id": "61edeede-dbdd-4e7b-9dea-3a7080cd03ae",
   "metadata": {},
   "source": [
    "#### Some of the popular languages that Data scientists use are listed below:\n",
    "1. R\n",
    "2. Python\n",
    "3. C++\n",
    "4. Java\n"
   ]
  },
  {
   "cell_type": "markdown",
   "id": "06ffaeb1-faf4-4c25-afce-5189c1bad1d7",
   "metadata": {},
   "source": [
    "#### Some of the commonly used libraries used by Data Scientists include:\n",
    "1. Pandas\n",
    "2. Numpy\n",
    "3. Matplotlib\n",
    "4. dplyr\n",
    "5. ggplot\n",
    "6. Pytorch\n",
    "7. Tensorflow\n",
    "8. Plotly\n",
    "9. caret\n",
    "10. leaflet"
   ]
  },
  {
   "cell_type": "markdown",
   "id": "a6fe242e-28b2-49b1-b000-44e3e6af7251",
   "metadata": {},
   "source": [
    "| Data Science Tools |\n",
    "| ------------------- |\n",
    "| Jupyter Notebook / Lab |\n",
    "| Rstudio |\n",
    "| VScode |"
   ]
  },
  {
   "cell_type": "markdown",
   "id": "c8ad51f0-8f70-4a14-8b9d-ed29b21c68f6",
   "metadata": {},
   "source": [
    "### Below are a few examples of evaluating arithmetic expressions in Python.\n",
    "Plus +\n",
    "Minus -\n",
    "Multiply *\n",
    "Division \\\n"
   ]
  },
  {
   "cell_type": "code",
   "execution_count": 2,
   "id": "c65cf75b-699b-46a0-9cfb-dc1a427f08b5",
   "metadata": {},
   "outputs": [
    {
     "data": {
      "text/plain": [
       "17"
      ]
     },
     "execution_count": 2,
     "metadata": {},
     "output_type": "execute_result"
    }
   ],
   "source": [
    "# This a simple arithmetic expression to mutiply then add integers\n",
    "(3*4)+5"
   ]
  },
  {
   "cell_type": "code",
   "execution_count": 3,
   "id": "73002fad-44c4-4ee4-a369-f70e839f5fc8",
   "metadata": {},
   "outputs": [
    {
     "data": {
      "text/plain": [
       "3.3333333333333335"
      ]
     },
     "execution_count": 3,
     "metadata": {},
     "output_type": "execute_result"
    }
   ],
   "source": [
    "# This will convert 200 minutes to hours by diving by 60\n",
    "200/60"
   ]
  },
  {
   "cell_type": "markdown",
   "id": "92ce9726-557d-47e4-803a-b7e871502270",
   "metadata": {},
   "source": [
    "## Author\n",
    "Rouzbeh Katrahmani"
   ]
  },
  {
   "cell_type": "code",
   "execution_count": null,
   "id": "85bcd6f6-3962-42cd-82b6-629fc5884241",
   "metadata": {},
   "outputs": [],
   "source": []
  }
 ],
 "metadata": {
  "kernelspec": {
   "display_name": "Python [conda env:base] *",
   "language": "python",
   "name": "conda-base-py"
  },
  "language_info": {
   "codemirror_mode": {
    "name": "ipython",
    "version": 3
   },
   "file_extension": ".py",
   "mimetype": "text/x-python",
   "name": "python",
   "nbconvert_exporter": "python",
   "pygments_lexer": "ipython3",
   "version": "3.13.5"
  }
 },
 "nbformat": 4,
 "nbformat_minor": 5
}
